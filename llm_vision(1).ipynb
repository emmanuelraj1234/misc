{
 "cells": [
  {
   "cell_type": "code",
   "execution_count": null,
   "id": "7418c465-c0f3-4e8e-a4f1-b8bfa6ed64b4",
   "metadata": {},
   "outputs": [],
   "source": [
    "from openai import OpenAI\n",
    "from PIL import Image\n",
    "\n",
    "img_a = Image.open(\"./test.PNG\")\n",
    "\n",
    "\n",
    "endpoint = \"https://some.address.local/api/v1/llm-general-purpose-secondary/v1\"\n",
    "\n",
    "client = OpenAI(\n",
    "    base_url=endpoint,\n",
    "    api_key=\"no-key\"\n",
    ")\n",
    "\n",
    "image_path = \"./test.PNG\"\n",
    "\n",
    "question = \"Summarize the text in this image\"\n",
    "\n",
    "with open(image_path, \"rb\") as f:\n",
    "    image_base64 = base64.b64encode(f.read()).decode(\"utf-8\")\n",
    "\n",
    "image_url = \"./test.PNG\"\n",
    "\n",
    "chat_response = client.chat.completions.create(\n",
    "    model = \"\",\n",
    "    messages=[{\n",
    "        \"role\": \"user\",\n",
    "        \"content\" : [\n",
    "            #{\"type\": \"text\", \"text\": \"Hello!\"},\n",
    "            {\"type\": \"text\", \"text\": \"What is in this photo?\"},\n",
    "            #{\"type\": \"image\", \"image\": img_a}\n",
    "            {\"type\": \"image_url\", \"image_url\": {\"url\" : f\"data:image/png;base64,{image_base64}\"}}\n",
    "        ]\n",
    "    }]\n",
    ")\n",
    "\n",
    "print(chat_response.choices[0].message.content)"
   ]
  }
 ],
 "metadata": {
  "kernelspec": {
   "display_name": "Python 3 (ipykernel)",
   "language": "python",
   "name": "python3"
  },
  "language_info": {
   "codemirror_mode": {
    "name": "ipython",
    "version": 3
   },
   "file_extension": ".py",
   "mimetype": "text/x-python",
   "name": "python",
   "nbconvert_exporter": "python",
   "pygments_lexer": "ipython3",
   "version": "3.12.3"
  }
 },
 "nbformat": 4,
 "nbformat_minor": 5
}
